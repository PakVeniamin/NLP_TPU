{
 "cells": [
  {
   "cell_type": "code",
   "execution_count": 1,
   "metadata": {},
   "outputs": [],
   "source": [
    "import os\n",
    "import gzip\n",
    "import spacy\n",
    "import gensim\n",
    "from gensim.models import Word2Vec\n",
    "import numpy as np"
   ]
  },
  {
   "cell_type": "code",
   "execution_count": 2,
   "metadata": {},
   "outputs": [],
   "source": [
    "spacy_de = spacy.load('de_core_news_sm')\n",
    "spacy_en = spacy.load('en_core_web_sm')\n",
    "\n",
    "# Функции токенизации\n",
    "def tokenize_de(text):\n",
    "    return [tok.text for tok in spacy_de(text)][::-1]\n",
    "\n",
    "def tokenize_en(text):\n",
    "    return [tok.text for tok in spacy_en(text)]\n",
    "\n",
    "# Чтение данных\n",
    "def read_gzip(file_path):\n",
    "    with gzip.open(file_path, 'rt', encoding='utf-8') as f:\n",
    "        return [line.strip() for line in f]"
   ]
  },
  {
   "cell_type": "code",
   "execution_count": 3,
   "metadata": {},
   "outputs": [],
   "source": [
    "data_path = 'multi30k-dataset/data/task1/raw/'\n",
    "\n",
    "# Загрузка данных\n",
    "train_src = read_gzip(os.path.join(data_path, 'train.de.gz'))\n",
    "train_trg = read_gzip(os.path.join(data_path, 'train.en.gz'))\n",
    "val_src = read_gzip(os.path.join(data_path, 'val.de.gz'))\n",
    "val_trg = read_gzip(os.path.join(data_path, 'val.en.gz'))\n",
    "test_src = read_gzip(os.path.join(data_path, 'test_2016_flickr.de.gz'))\n",
    "test_trg = read_gzip(os.path.join(data_path, 'test_2016_flickr.en.gz'))\n"
   ]
  },
  {
   "cell_type": "code",
   "execution_count": 4,
   "metadata": {},
   "outputs": [],
   "source": [
    "\n",
    "# Подготовка текстов для обучения\n",
    "def prepare_texts(texts, tokenizer):\n",
    "    return [tokenizer(text) for text in texts]\n",
    "\n",
    "# Обучение модели Word2Vec\n",
    "def train_word2vec(texts, size=100, window=5, min_count=2, workers=4):\n",
    "    model = Word2Vec(texts, size=size, window=window, min_count=min_count, workers=workers)\n",
    "    return model\n"
   ]
  },
  {
   "cell_type": "code",
   "execution_count": 6,
   "metadata": {},
   "outputs": [],
   "source": [
    "\n",
    "# Токенизация текстов\n",
    "tokenized_de_texts = [tokenize_de(text) for text in train_src + val_src + test_src]\n",
    "tokenized_en_texts = [tokenize_en(text) for text in train_trg + val_trg + test_trg]\n",
    "\n",
    "# Обучение модели Word2Vec\n",
    "de_model = Word2Vec(tokenized_de_texts, vector_size=100, window=5, min_count=2, workers=4)\n",
    "en_model = Word2Vec(tokenized_en_texts, vector_size=100, window=5, min_count=2, workers=4)\n"
   ]
  },
  {
   "cell_type": "code",
   "execution_count": 15,
   "metadata": {},
   "outputs": [
    {
     "name": "stdout",
     "output_type": "stream",
     "text": [
      "Vector for 'Mann': [-9.29896593e-01  1.72107801e-01  1.16504049e+00 -5.26596189e-01\n",
      " -2.38793924e-01  4.96350825e-02 -3.50414038e-01 -6.99769437e-01\n",
      "  6.78988993e-02  4.12205994e-01 -5.04133582e-01 -1.15436643e-01\n",
      "  1.33464956e+00 -7.87142396e-01  8.76615226e-01 -7.01445460e-01\n",
      "  9.45309475e-02 -1.42280072e-01 -3.23659301e-01 -1.25680089e+00\n",
      " -1.60028487e-01  5.66368520e-01  2.34313655e+00 -4.76924598e-01\n",
      "  1.05712295e+00  7.44040132e-01 -1.20399952e+00  3.11883360e-01\n",
      " -4.56982136e-01  3.39530021e-01 -6.92506284e-02  5.79221010e-01\n",
      "  1.15681219e+00 -4.68015075e-01 -8.88574302e-01  5.76740384e-01\n",
      " -1.38490951e+00 -3.63547713e-01 -5.66139281e-01 -4.93443608e-01\n",
      " -1.07930243e+00  6.54582586e-03 -2.26260990e-01  4.63841438e-01\n",
      "  1.03379607e+00 -6.42075121e-01  3.95294785e-01  9.71473992e-01\n",
      " -8.67427588e-01  2.66395092e-01  7.24475265e-01 -2.81370163e-01\n",
      "  1.23031035e-01 -8.98201704e-01 -4.29061413e-01 -1.05017163e-01\n",
      "  6.67502880e-01  7.90818632e-01 -7.86053419e-01 -8.05626810e-01\n",
      "  8.91394913e-01 -2.29798412e+00  1.98938715e+00  4.84345049e-01\n",
      "  1.47160381e-01  4.08291280e-01 -5.36649153e-02  4.97280926e-01\n",
      " -2.05852222e+00  1.98566949e+00 -1.56586003e+00  2.15239286e+00\n",
      "  4.92924541e-01 -3.04780424e-01 -1.30794868e-01  3.78481656e-01\n",
      " -1.64950776e+00 -7.29424953e-01 -7.24589005e-02  4.69055201e-04\n",
      "  2.46841475e-01 -1.48232889e+00 -1.25892448e+00  9.19577301e-01\n",
      " -4.57120955e-01 -3.90566736e-01  7.65117228e-01  4.72924769e-01\n",
      "  1.10860658e+00  1.35291219e+00  1.29503477e+00  1.01399168e-01\n",
      "  6.88416585e-02 -6.23860180e-01  1.19551945e+00 -9.73214582e-03\n",
      "  4.43070948e-01  7.61707246e-01  1.15928300e-01 -1.88521314e+00]\n",
      "Words similar to 'Mann': [('Kerl', 0.7985956072807312), ('Herr', 0.7717238664627075), ('Hut', 0.7679425477981567)]\n"
     ]
    }
   ],
   "source": [
    "# Извлечение вектора для слова 'Mann'\n",
    "mann_vector = de_model.wv['Mann']\n",
    "print(\"Vector for 'Mann':\", mann_vector)\n",
    "\n",
    "# Поиск ближайших слов\n",
    "similar_words = de_model.wv.most_similar('Mann', topn=3)\n",
    "print(\"Words similar to 'Mann':\", similar_words)"
   ]
  }
 ],
 "metadata": {
  "kernelspec": {
   "display_name": "base",
   "language": "python",
   "name": "python3"
  },
  "language_info": {
   "codemirror_mode": {
    "name": "ipython",
    "version": 3
   },
   "file_extension": ".py",
   "mimetype": "text/x-python",
   "name": "python",
   "nbconvert_exporter": "python",
   "pygments_lexer": "ipython3",
   "version": "3.11.7"
  }
 },
 "nbformat": 4,
 "nbformat_minor": 2
}
